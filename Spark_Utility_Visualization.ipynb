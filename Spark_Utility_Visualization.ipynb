{
 "cells": [
  {
   "cell_type": "code",
   "execution_count": 1,
   "metadata": {},
   "outputs": [
    {
     "data": {
      "text/plain": [
       "'C:\\\\Spark\\\\spark-3.1.2-bin-hadoop3.2'"
      ]
     },
     "execution_count": 1,
     "metadata": {},
     "output_type": "execute_result"
    }
   ],
   "source": [
    "# Set the PySpark Connection:\n",
    "import findspark\n",
    "findspark.init()\n",
    "findspark.find()\n",
    "import pyspark\n",
    "findspark.find()"
   ]
  },
  {
   "cell_type": "code",
   "execution_count": 2,
   "metadata": {},
   "outputs": [
    {
     "data": {
      "text/html": [
       "\n",
       "            <div>\n",
       "                <p><b>SparkSession - in-memory</b></p>\n",
       "                \n",
       "        <div>\n",
       "            <p><b>SparkContext</b></p>\n",
       "\n",
       "            <p><a href=\"http://ISE-4Z3ZP13.engr.msstate.edu:4040\">Spark UI</a></p>\n",
       "\n",
       "            <dl>\n",
       "              <dt>Version</dt>\n",
       "                <dd><code>v3.1.2</code></dd>\n",
       "              <dt>Master</dt>\n",
       "                <dd><code>local[*]</code></dd>\n",
       "              <dt>AppName</dt>\n",
       "                <dd><code>PySpark_Basics</code></dd>\n",
       "            </dl>\n",
       "        </div>\n",
       "        \n",
       "            </div>\n",
       "        "
      ],
      "text/plain": [
       "<pyspark.sql.session.SparkSession at 0x1e2d0377760>"
      ]
     },
     "execution_count": 2,
     "metadata": {},
     "output_type": "execute_result"
    }
   ],
   "source": [
    "from pyspark.sql import SparkSession\n",
    "spark = SparkSession.builder.appName(\"PySpark_Basics\").getOrCreate()\n",
    "spark"
   ]
  },
  {
   "cell_type": "code",
   "execution_count": 102,
   "metadata": {},
   "outputs": [],
   "source": [
    "# Reading Data from FILE:\n",
    "file_location = \"movie_data_part1.csv\"\n",
    "file_type = \"csv\"\n",
    "infer_schema = \"false\"\n",
    "first_row_is_header = \"true\"\n",
    "delimiter = \"|\"\n",
    "\n",
    "df = spark.read.format(file_type)\\\n",
    ".option(\"InferSchema\", infer_schema)\\\n",
    ".option(\"header\", first_row_is_header)\\\n",
    ".option(\"sep\", delimiter)\\\n",
    ".load(file_location)"
   ]
  },
  {
   "cell_type": "code",
   "execution_count": 73,
   "metadata": {},
   "outputs": [
    {
     "name": "stdout",
     "output_type": "stream",
     "text": [
      "root\n",
      " |-- belongs_to_collection: string (nullable = true)\n",
      " |-- budget: string (nullable = true)\n",
      " |-- id: string (nullable = true)\n",
      " |-- original_language: string (nullable = true)\n",
      " |-- original_title: string (nullable = true)\n",
      " |-- overview: string (nullable = true)\n",
      " |-- popularity: string (nullable = true)\n",
      " |-- production_companies: string (nullable = true)\n",
      " |-- production_countries: string (nullable = true)\n",
      " |-- release_date: string (nullable = true)\n",
      " |-- revenue: string (nullable = true)\n",
      " |-- runtime: string (nullable = true)\n",
      " |-- status: string (nullable = true)\n",
      " |-- tagline: string (nullable = true)\n",
      " |-- title: string (nullable = true)\n",
      " |-- vote_average: string (nullable = true)\n",
      "\n"
     ]
    }
   ],
   "source": [
    "# Print Metadata\n",
    "df.printSchema()"
   ]
  },
  {
   "cell_type": "markdown",
   "metadata": {},
   "source": [
    "### String Functions"
   ]
  },
  {
   "cell_type": "code",
   "execution_count": 4,
   "metadata": {},
   "outputs": [
    {
     "name": "stdout",
     "output_type": "stream",
     "text": [
      "+-----+------+----------+----------+-------+\n",
      "|   id|budget|popularity|budget_cat|ratings|\n",
      "+-----+------+----------+----------+-------+\n",
      "|43000|     0|     2.503|     Small|    Low|\n",
      "|43001|     0|      5.51|     Small|   High|\n",
      "|43002|     0|      5.62|     Small|   High|\n",
      "|43003|     0|     7.159|     Small|   High|\n",
      "|43004|500000|     3.988|     Small|    Mid|\n",
      "|43006|     0|     3.194|     Small|    Mid|\n",
      "|43007|     0|     2.689|     Small|    Low|\n",
      "|43008|     0|     6.537|     Small|   High|\n",
      "|43010|     0|     4.297|     Small|    Mid|\n",
      "|43011|     0|     4.417|     Small|    Mid|\n",
      "+-----+------+----------+----------+-------+\n",
      "only showing top 10 rows\n",
      "\n"
     ]
    }
   ],
   "source": [
    "from pyspark.sql.functions import *\n",
    "\n",
    "# String functions\n",
    "df_with_newcols = df.select('id','budget','popularity').\\\n",
    "withColumn('budget_cat', when(df['budget']<10000000,'Small').when(df['budget']<100000000,'Medium').otherwise('Big')).\\\n",
    "withColumn('ratings', when(df['popularity']<3,'Low').when(df['popularity']<5,'Mid').otherwise('High'))\n",
    "\n",
    "df_with_newcols.show(10)"
   ]
  },
  {
   "cell_type": "code",
   "execution_count": 6,
   "metadata": {},
   "outputs": [
    {
     "name": "stdout",
     "output_type": "stream",
     "text": [
      "+-----+------+----------+----------+-------+---------------------+\n",
      "|   id|budget|popularity|budget_cat|ratings|BudgetRating_Category|\n",
      "+-----+------+----------+----------+-------+---------------------+\n",
      "|43000|     0|     2.503|     Small|    Low|             SmallLow|\n",
      "|43001|     0|      5.51|     Small|   High|            SmallHigh|\n",
      "|43002|     0|      5.62|     Small|   High|            SmallHigh|\n",
      "|43003|     0|     7.159|     Small|   High|            SmallHigh|\n",
      "|43004|500000|     3.988|     Small|    Mid|             SmallMid|\n",
      "|43006|     0|     3.194|     Small|    Mid|             SmallMid|\n",
      "|43007|     0|     2.689|     Small|    Low|             SmallLow|\n",
      "|43008|     0|     6.537|     Small|   High|            SmallHigh|\n",
      "|43010|     0|     4.297|     Small|    Mid|             SmallMid|\n",
      "|43011|     0|     4.417|     Small|    Mid|             SmallMid|\n",
      "+-----+------+----------+----------+-------+---------------------+\n",
      "only showing top 10 rows\n",
      "\n"
     ]
    }
   ],
   "source": [
    "# concatanating the two variables:\n",
    "df_with_newcols=df_with_newcols.withColumn('BudgetRating_Category',concat(df_with_newcols.budget_cat,df_with_newcols.ratings))\n",
    "df_with_newcols.show(10)"
   ]
  },
  {
   "cell_type": "code",
   "execution_count": 7,
   "metadata": {},
   "outputs": [
    {
     "name": "stdout",
     "output_type": "stream",
     "text": [
      "+-----+------+----------+----------+-------+---------------------+\n",
      "|   id|budget|popularity|budget_cat|ratings|BudgetRating_Category|\n",
      "+-----+------+----------+----------+-------+---------------------+\n",
      "|43000|     0|     2.503|     Small|    Low|             smalllow|\n",
      "|43001|     0|      5.51|     Small|   High|            smallhigh|\n",
      "|43002|     0|      5.62|     Small|   High|            smallhigh|\n",
      "|43003|     0|     7.159|     Small|   High|            smallhigh|\n",
      "|43004|500000|     3.988|     Small|    Mid|             smallmid|\n",
      "|43006|     0|     3.194|     Small|    Mid|             smallmid|\n",
      "|43007|     0|     2.689|     Small|    Low|             smalllow|\n",
      "|43008|     0|     6.537|     Small|   High|            smallhigh|\n",
      "|43010|     0|     4.297|     Small|    Mid|             smallmid|\n",
      "|43011|     0|     4.417|     Small|    Mid|             smallmid|\n",
      "+-----+------+----------+----------+-------+---------------------+\n",
      "only showing top 10 rows\n",
      "\n"
     ]
    }
   ],
   "source": [
    "# Changing the new variable to a lowercase:\n",
    "df_with_newcols=df_with_newcols.withColumn('BudgetRating_Category',trim(lower(df_with_newcols.BudgetRating_Category)))\n",
    "df_with_newcols.show(10)"
   ]
  },
  {
   "cell_type": "markdown",
   "metadata": {},
   "source": [
    "### Registering DataFrames\n",
    "\n",
    "* Used to leverage the power of SQL functions in PySpark\n",
    "* registerTempTable function creates an in-memory table\n",
    "* The data is stored in hive's column format"
   ]
  },
  {
   "cell_type": "code",
   "execution_count": 8,
   "metadata": {},
   "outputs": [
    {
     "name": "stdout",
     "output_type": "stream",
     "text": [
      "+-------+--------------+\n",
      "|ratings|count(ratings)|\n",
      "+-------+--------------+\n",
      "|High   |16856         |\n",
      "|Low    |14865         |\n",
      "|Mid    |12277         |\n",
      "+-------+--------------+\n",
      "\n"
     ]
    }
   ],
   "source": [
    "# registering temporary table\n",
    "df_with_newcols.registerTempTable('temp_data')\n",
    "\n",
    "# applying the functions to show the results:\n",
    "spark.sql('select ratings, count(ratings) from temp_data group by ratings').show(10, False)"
   ]
  },
  {
   "cell_type": "markdown",
   "metadata": {},
   "source": [
    "### Window Functions\n",
    "\n",
    "* Deciling is a process of dividing the distribution into ten equal buckets in either ascending or descending order. These are used as an input step in evaluating a predictive model's performance\n",
    "\n",
    "* Window functions require specifying the following three important components:\n",
    "    * *Partition*: This specifies which rows will be included in the same partition with the row\n",
    "    * *Order*: The order of the rows (ascending or descending)\n",
    "    * *Frame*: This specifies how many rows you want to include above/below the current row based on relative position to the current position"
   ]
  },
  {
   "cell_type": "code",
   "execution_count": 9,
   "metadata": {},
   "outputs": [],
   "source": [
    "# Let's first check a simple example:\n",
    "#  Importing the window functions:\n",
    "from pyspark.sql.window import *"
   ]
  },
  {
   "cell_type": "code",
   "execution_count": 10,
   "metadata": {},
   "outputs": [],
   "source": [
    "# Step 1: filtering the missing values:\n",
    "df_with_newcols = df_with_newcols.filter( (df_with_newcols['popularity'].isNotNull()) & (~isnan(df_with_newcols['popularity'])))"
   ]
  },
  {
   "cell_type": "code",
   "execution_count": 11,
   "metadata": {},
   "outputs": [],
   "source": [
    "# Step 2: Applying the window functions for calculating deciles:\n",
    "df_with_newcols = df_with_newcols.select(\"id\",\"budget\",\"popularity\", ntile(10).over(Window.partitionBy().orderBy(df_with_newcols['popularity'].desc())).alias(\"decile_rank\"))"
   ]
  },
  {
   "cell_type": "code",
   "execution_count": 12,
   "metadata": {},
   "outputs": [
    {
     "name": "stdout",
     "output_type": "stream",
     "text": [
      "+-----------+------------------+--------------+-----------------+\n",
      "|decile_rank|    min_popularity|max_popularity|count(popularity)|\n",
      "+-----------+------------------+--------------+-----------------+\n",
      "|          1|             7.402|            99|             4379|\n",
      "|          2|             5.792|         7.401|             4379|\n",
      "|          3|             4.792|         5.792|             4379|\n",
      "|          4|             4.024|         4.792|             4378|\n",
      "|          5|             3.371|         4.024|             4378|\n",
      "|          6|             2.779|          3.37|             4378|\n",
      "|          7|             2.108|         2.779|             4378|\n",
      "|          8|            10.422|         2.108|             4378|\n",
      "|          9|             1.389|         10.42|             4378|\n",
      "|         10|0.6000000000000001|         1.389|             4378|\n",
      "+-----------+------------------+--------------+-----------------+\n",
      "\n"
     ]
    }
   ],
   "source": [
    "# Step 3: Displaying the values:\n",
    "df_with_newcols.groupby(\"decile_rank\").agg(min('popularity').alias('min_popularity'), max('popularity').alias('max_popularity'), count('popularity')).show()"
   ]
  },
  {
   "cell_type": "markdown",
   "metadata": {},
   "source": [
    "###### We want to find the second most popular movie in the year 1970"
   ]
  },
  {
   "cell_type": "code",
   "execution_count": 13,
   "metadata": {},
   "outputs": [],
   "source": [
    "#Step 1: Import the window functions\n",
    "from pyspark.sql.window import *"
   ]
  },
  {
   "cell_type": "code",
   "execution_count": 14,
   "metadata": {},
   "outputs": [
    {
     "name": "stdout",
     "output_type": "stream",
     "text": [
      "+-----+----------+------------+\n",
      "|   id|popularity|release_date|\n",
      "+-----+----------+------------+\n",
      "|43000|     2.503|  1962-05-23|\n",
      "|43001|      5.51|  1962-11-12|\n",
      "|43002|      5.62|  1962-05-24|\n",
      "|43003|     7.159|  1975-03-12|\n",
      "|43004|     3.988|  1962-10-09|\n",
      "+-----+----------+------------+\n",
      "only showing top 5 rows\n",
      "\n"
     ]
    }
   ],
   "source": [
    "#Step 2: Select the required subset of columns\n",
    "df_second_best = df.select('id','popularity','release_date')\n",
    "df_second_best.show(5)"
   ]
  },
  {
   "cell_type": "code",
   "execution_count": 15,
   "metadata": {},
   "outputs": [
    {
     "name": "stdout",
     "output_type": "stream",
     "text": [
      "+-----+----------+------------+\n",
      "|   id|popularity|release_year|\n",
      "+-----+----------+------------+\n",
      "|43000|     2.503|        1962|\n",
      "|43001|      5.51|        1962|\n",
      "|43002|      5.62|        1962|\n",
      "|43003|     7.159|        1975|\n",
      "|43004|     3.988|        1962|\n",
      "+-----+----------+------------+\n",
      "only showing top 5 rows\n",
      "\n"
     ]
    }
   ],
   "source": [
    "#Step 3: Create the year column from release date\n",
    "df_second_best = df_second_best.withColumn('release_year',year('release_date')).drop('release_date')\n",
    "df_second_best.show(5)"
   ]
  },
  {
   "cell_type": "code",
   "execution_count": 16,
   "metadata": {},
   "outputs": [],
   "source": [
    "#Step 4: Define partition function\n",
    "year_window = Window.partitionBy(df_second_best['release_year']).orderBy(df_with_newcols['popularity'].desc())"
   ]
  },
  {
   "cell_type": "code",
   "execution_count": 17,
   "metadata": {},
   "outputs": [
    {
     "name": "stdout",
     "output_type": "stream",
     "text": [
      "+-----+-----------------+------------+----+\n",
      "|   id|       popularity|release_year|rank|\n",
      "+-----+-----------------+------------+----+\n",
      "|11571|            9.808|        1959|   1|\n",
      "|14698|9.806000000000001|        1959|   2|\n",
      "|   93|            9.476|        1959|   3|\n",
      "|  690|            9.409|        1959|   4|\n",
      "|62036|            9.324|        1959|   5|\n",
      "+-----+-----------------+------------+----+\n",
      "only showing top 5 rows\n",
      "\n"
     ]
    }
   ],
   "source": [
    "#Step 5: Apply partion function\n",
    "df_second_best = df_second_best.select('id','popularity','release_year',rank().over(year_window).alias(\"rank\"))\n",
    "df_second_best.show(5)"
   ]
  },
  {
   "cell_type": "code",
   "execution_count": 18,
   "metadata": {},
   "outputs": [
    {
     "name": "stdout",
     "output_type": "stream",
     "text": [
      "+---+----------+------------+----+\n",
      "| id|popularity|release_year|rank|\n",
      "+---+----------+------------+----+\n",
      "|651|     9.588|        1970|   2|\n",
      "+---+----------+------------+----+\n",
      "\n"
     ]
    }
   ],
   "source": [
    "# Step 6: find the second most popular movie in the year 1970\n",
    "df_second_best.filter( (df_second_best['release_year']==1970) & (df_second_best['rank']==2)).show()"
   ]
  },
  {
   "cell_type": "markdown",
   "metadata": {},
   "source": [
    "###### What is the difference between the revenue  of the highest-grossing film of the year and other films within that year?"
   ]
  },
  {
   "cell_type": "code",
   "execution_count": 19,
   "metadata": {},
   "outputs": [],
   "source": [
    "#Step 1: Import the window functions\n",
    "from pyspark.sql.window import *"
   ]
  },
  {
   "cell_type": "code",
   "execution_count": 20,
   "metadata": {},
   "outputs": [
    {
     "name": "stdout",
     "output_type": "stream",
     "text": [
      "+-----+-------+------------+\n",
      "|   id|revenue|release_date|\n",
      "+-----+-------+------------+\n",
      "|43000|      0|  1962-05-23|\n",
      "|43001|      0|  1962-11-12|\n",
      "|43002|      0|  1962-05-24|\n",
      "|43003|      0|  1975-03-12|\n",
      "|43004|      0|  1962-10-09|\n",
      "+-----+-------+------------+\n",
      "only showing top 5 rows\n",
      "\n"
     ]
    }
   ],
   "source": [
    "#Step 2: Select the required subset of columns\n",
    "df_revenue = df.select('id','revenue','release_date')\n",
    "df_revenue.show(5)"
   ]
  },
  {
   "cell_type": "code",
   "execution_count": 21,
   "metadata": {},
   "outputs": [
    {
     "name": "stdout",
     "output_type": "stream",
     "text": [
      "+-----+-------+------------+\n",
      "|   id|revenue|release_year|\n",
      "+-----+-------+------------+\n",
      "|43000|      0|        1962|\n",
      "|43001|      0|        1962|\n",
      "|43002|      0|        1962|\n",
      "|43003|      0|        1975|\n",
      "|43004|      0|        1962|\n",
      "+-----+-------+------------+\n",
      "only showing top 5 rows\n",
      "\n"
     ]
    }
   ],
   "source": [
    "#Step 3: Create the year column from release date\n",
    "df_revenue = df_revenue.withColumn('release_year',year('release_date')).drop('release_date')\n",
    "df_revenue.show(5)"
   ]
  },
  {
   "cell_type": "code",
   "execution_count": 22,
   "metadata": {},
   "outputs": [],
   "source": [
    "#Step 4: Define partition function\n",
    "windowRev =Window.partitionBy(df_revenue['release_year']).orderBy(df_revenue['revenue'].desc()).rangeBetween(-sys.maxsize, sys.maxsize)"
   ]
  },
  {
   "cell_type": "code",
   "execution_count": 23,
   "metadata": {},
   "outputs": [],
   "source": [
    "#Step 5: Apply partition function for the revenue differences\n",
    "revenue_difference = (max(df_revenue['revenue']).over(windowRev) - df_revenue['revenue']) "
   ]
  },
  {
   "cell_type": "code",
   "execution_count": 24,
   "metadata": {},
   "outputs": [
    {
     "name": "stdout",
     "output_type": "stream",
     "text": [
      "+-----+---------+------------+------------------+\n",
      "|id   |revenue  |release_year|revenue_difference|\n",
      "+-----+---------+------------+------------------+\n",
      "|9660 |6800000  |1959        |0.0               |\n",
      "|301  |5800000  |1959        |1000000.0         |\n",
      "|10882|51000000 |1959        |-4.42E7           |\n",
      "|76863|3745000  |1959        |3055000.0         |\n",
      "|5544 |3193     |1959        |6796807.0         |\n",
      "|239  |25000000 |1959        |-1.82E7           |\n",
      "|4952 |18750000 |1959        |-1.195E7          |\n",
      "|15944|17658000 |1959        |-1.0858E7         |\n",
      "|665  |164000000|1959        |-1.572E8          |\n",
      "|896  |134241   |1959        |6665759.0         |\n",
      "+-----+---------+------------+------------------+\n",
      "only showing top 10 rows\n",
      "\n"
     ]
    }
   ],
   "source": [
    "#Step 6: Final data\n",
    "df_revenue.select('id','revenue','release_year',revenue_difference.alias(\"revenue_difference\")).show(10, False)"
   ]
  },
  {
   "cell_type": "markdown",
   "metadata": {},
   "source": [
    "### Collect List"
   ]
  },
  {
   "cell_type": "code",
   "execution_count": 25,
   "metadata": {},
   "outputs": [
    {
     "name": "stdout",
     "output_type": "stream",
     "text": [
      "+--------------------+-----+\n",
      "|               title|count|\n",
      "+--------------------+-----+\n",
      "|                null|  304|\n",
      "|          Cinderella|    8|\n",
      "|The Three Musketeers|    8|\n",
      "|      Les Misérables|    8|\n",
      "|             Dracula|    7|\n",
      "|   A Christmas Carol|    7|\n",
      "|        Frankenstein|    7|\n",
      "|          The Island|    7|\n",
      "|              Hamlet|    7|\n",
      "|           Cleopatra|    6|\n",
      "|              Framed|    6|\n",
      "|          First Love|    6|\n",
      "|     Treasure Island|    6|\n",
      "|Crime and Punishment|    6|\n",
      "|Beauty and the Beast|    6|\n",
      "|          Borderline|    6|\n",
      "|      The Lost World|    6|\n",
      "|The Hound of the ...|    6|\n",
      "|Dr. Jekyll and Mr...|    5|\n",
      "|         The Visitor|    5|\n",
      "+--------------------+-----+\n",
      "only showing top 20 rows\n",
      "\n"
     ]
    }
   ],
   "source": [
    "#Frequencies - descending order\n",
    "df.groupby(df['title']).count().sort(desc(\"count\")).show(20)"
   ]
  },
  {
   "cell_type": "code",
   "execution_count": 26,
   "metadata": {},
   "outputs": [
    {
     "name": "stdout",
     "output_type": "stream",
     "text": [
      "+---------------------+------+-----+-----------------+--------------------+--------------------+----------+--------------------+--------------------+------------+-------+-------+--------+--------------------+--------------------+------------+------------+\n",
      "|belongs_to_collection|budget|   id|original_language|      original_title|            overview|popularity|production_companies|production_countries|release_date|revenue|runtime|  status|             tagline|               title|vote_average|release_year|\n",
      "+---------------------+------+-----+-----------------+--------------------+--------------------+----------+--------------------+--------------------+------------+-------+-------+--------+--------------------+--------------------+------------+------------+\n",
      "|                 null|     0|43000|               fr|  Le Caporal épinglé|The story serves ...|     2.503|[{'id': 16059, 'l...|[{'iso_3166_1': '...|  1962-05-23|      0|     90|Released|                null|The Elusive Corporal|         5.9|        1962|\n",
      "|                 null|     0|43001|               fr|Cybèle ou les dim...|The tragic story ...|      5.51|[{'id': 7808, 'lo...|[{'iso_3166_1': '...|  1962-11-12|      0|    110|Released|                null|  Sundays and Cybele|         7.4|        1962|\n",
      "|                 null|     0|43002|               en|Lonely Are the Brave|A fiercely indepe...|      5.62|[{'id': 3810, 'lo...|[{'iso_3166_1': '...|  1962-05-24|      0|    107|Released|Life can never ca...|Lonely Are the Brave|         7.5|        1962|\n",
      "|                 null|     0|43003|               fr|Vérités et Mensonges|Documents the liv...|     7.159|[{'id': 36547, 'l...|[{'iso_3166_1': '...|  1975-03-12|      0|     89|Released|                null|          F for Fake|         7.5|        1975|\n",
      "|                 null|500000|43004|               en|Long Day's Journe...|The film follows ...|     3.988|[{'id': 77598, 'l...|[{'iso_3166_1': '...|  1962-10-09|      0|    174|Released|PRIDE...POWER...P...|Long Day's Journe...|         6.8|        1962|\n",
      "+---------------------+------+-----+-----------------+--------------------+--------------------+----------+--------------------+--------------------+------------+-------+-------+--------+--------------------+--------------------+------------+------------+\n",
      "only showing top 5 rows\n",
      "\n"
     ]
    }
   ],
   "source": [
    "# The above example can be simplified by using the collect_list function\n",
    "# We can find all years where the title \"The Lost World\" is repeated\n",
    "\n",
    "# Step 1: Create the year column from release date:\n",
    "df = df.withColumn('release_year', year('release_date'))\n",
    "df.show(5)"
   ]
  },
  {
   "cell_type": "code",
   "execution_count": 27,
   "metadata": {},
   "outputs": [
    {
     "name": "stdout",
     "output_type": "stream",
     "text": [
      "+--------------+------------------------------------+\n",
      "|title         |collect_list(release_year)          |\n",
      "+--------------+------------------------------------+\n",
      "|The Lost World|[1999, 2001, 1925, 1960, 1992, 1998]|\n",
      "+--------------+------------------------------------+\n",
      "\n"
     ]
    }
   ],
   "source": [
    "# Step 2: Apply collect list function to gather all occurrences;\n",
    "df.filter(\"title == 'The Lost World'\").groupby('title').agg(collect_list(\"release_year\")).show(1, False)"
   ]
  },
  {
   "cell_type": "markdown",
   "metadata": {},
   "source": [
    "### Sampling"
   ]
  },
  {
   "cell_type": "markdown",
   "metadata": {},
   "source": [
    "##### Simple Random Sample without Replacement "
   ]
  },
  {
   "cell_type": "code",
   "execution_count": 29,
   "metadata": {},
   "outputs": [
    {
     "data": {
      "text/plain": [
       "17684"
      ]
     },
     "execution_count": 29,
     "metadata": {},
     "output_type": "execute_result"
    }
   ],
   "source": [
    "# False: without replacement\n",
    "# 0.4: percent selection (40% sample)\n",
    "# 11: seed\n",
    "df_sample = df.sample(False, 0.4, 11)\n",
    "df_sample.count()"
   ]
  },
  {
   "cell_type": "markdown",
   "metadata": {},
   "source": [
    "##### Simple Random Sample with Replacement "
   ]
  },
  {
   "cell_type": "code",
   "execution_count": 30,
   "metadata": {},
   "outputs": [
    {
     "data": {
      "text/plain": [
       "17805"
      ]
     },
     "execution_count": 30,
     "metadata": {},
     "output_type": "execute_result"
    }
   ],
   "source": [
    "df_sample = df.sample(True, 0.4, 11)\n",
    "df_sample.count()"
   ]
  },
  {
   "cell_type": "markdown",
   "metadata": {},
   "source": [
    "##### Stratified Sampling:"
   ]
  },
  {
   "cell_type": "code",
   "execution_count": 31,
   "metadata": {},
   "outputs": [
    {
     "data": {
      "text/plain": [
       "241"
      ]
     },
     "execution_count": 31,
     "metadata": {},
     "output_type": "execute_result"
    }
   ],
   "source": [
    "df_strat = df.sampleBy(\"release_year\", fractions={1959: 0.2, 1960: 0.4, 1961: 0.4}, seed = 11)\n",
    "df_strat.count()"
   ]
  },
  {
   "cell_type": "markdown",
   "metadata": {},
   "source": [
    "### Caching and Persisting\n",
    "\n",
    "* MEMORY_ONLY\n",
    "* MEMORY_ONLY_SER\n",
    "* MEMORY_AND_DISK\n",
    "* MEMORY_AND_DISK_SER\n",
    "\n",
    "SER: Serialized Java Objects (one byte array per partition)"
   ]
  },
  {
   "cell_type": "code",
   "execution_count": 32,
   "metadata": {},
   "outputs": [
    {
     "data": {
      "text/plain": [
       "DataFrame[belongs_to_collection: string, budget: string, id: string, original_language: string, original_title: string, overview: string, popularity: string, production_companies: string, production_countries: string, release_date: string, revenue: string, runtime: string, status: string, tagline: string, title: string, vote_average: string, release_year: int]"
      ]
     },
     "execution_count": 32,
     "metadata": {},
     "output_type": "execute_result"
    }
   ],
   "source": [
    "# default: MEMORY_ONLY\n",
    "df.cache()"
   ]
  },
  {
   "cell_type": "code",
   "execution_count": 45,
   "metadata": {},
   "outputs": [
    {
     "data": {
      "text/plain": [
       "True"
      ]
     },
     "execution_count": 45,
     "metadata": {},
     "output_type": "execute_result"
    }
   ],
   "source": [
    "# check if the dataframe is cached:\n",
    "df.is_cached"
   ]
  },
  {
   "cell_type": "code",
   "execution_count": 33,
   "metadata": {},
   "outputs": [
    {
     "data": {
      "text/plain": [
       "DataFrame[belongs_to_collection: string, budget: string, id: string, original_language: string, original_title: string, overview: string, popularity: string, production_companies: string, production_countries: string, release_date: string, revenue: string, runtime: string, status: string, tagline: string, title: string, vote_average: string, release_year: int]"
      ]
     },
     "execution_count": 33,
     "metadata": {},
     "output_type": "execute_result"
    }
   ],
   "source": [
    "df.persist()"
   ]
  },
  {
   "cell_type": "code",
   "execution_count": 38,
   "metadata": {},
   "outputs": [
    {
     "data": {
      "text/plain": [
       "DataFrame[belongs_to_collection: string, budget: string, id: string, original_language: string, original_title: string, overview: string, popularity: string, production_companies: string, production_countries: string, release_date: string, revenue: string, runtime: string, status: string, tagline: string, title: string, vote_average: string, release_year: int]"
      ]
     },
     "execution_count": 38,
     "metadata": {},
     "output_type": "execute_result"
    }
   ],
   "source": [
    "df.persist(pyspark.StorageLevel.MEMORY_ONLY)"
   ]
  },
  {
   "cell_type": "code",
   "execution_count": 40,
   "metadata": {},
   "outputs": [
    {
     "data": {
      "text/plain": [
       "DataFrame[belongs_to_collection: string, budget: string, id: string, original_language: string, original_title: string, overview: string, popularity: string, production_companies: string, production_countries: string, release_date: string, revenue: string, runtime: string, status: string, tagline: string, title: string, vote_average: string, release_year: int]"
      ]
     },
     "execution_count": 40,
     "metadata": {},
     "output_type": "execute_result"
    }
   ],
   "source": [
    "df.persist(pyspark.StorageLevel.DISK_ONLY)"
   ]
  },
  {
   "cell_type": "code",
   "execution_count": 41,
   "metadata": {},
   "outputs": [
    {
     "data": {
      "text/plain": [
       "DataFrame[belongs_to_collection: string, budget: string, id: string, original_language: string, original_title: string, overview: string, popularity: string, production_companies: string, production_countries: string, release_date: string, revenue: string, runtime: string, status: string, tagline: string, title: string, vote_average: string, release_year: int]"
      ]
     },
     "execution_count": 41,
     "metadata": {},
     "output_type": "execute_result"
    }
   ],
   "source": [
    "df.persist(pyspark.StorageLevel.MEMORY_AND_DISK)"
   ]
  },
  {
   "cell_type": "code",
   "execution_count": 48,
   "metadata": {},
   "outputs": [
    {
     "data": {
      "text/plain": [
       "DataFrame[belongs_to_collection: string, budget: string, id: string, original_language: string, original_title: string, overview: string, popularity: string, production_companies: string, production_countries: string, release_date: string, revenue: string, runtime: string, status: string, tagline: string, title: string, vote_average: string, release_year: int]"
      ]
     },
     "execution_count": 48,
     "metadata": {},
     "output_type": "execute_result"
    }
   ],
   "source": [
    "df.unpersist()"
   ]
  },
  {
   "cell_type": "code",
   "execution_count": 49,
   "metadata": {},
   "outputs": [
    {
     "data": {
      "text/plain": [
       "StorageLevel(False, False, False, False, 1)"
      ]
     },
     "execution_count": 49,
     "metadata": {},
     "output_type": "execute_result"
    }
   ],
   "source": [
    "df.storageLevel"
   ]
  },
  {
   "cell_type": "code",
   "execution_count": 51,
   "metadata": {},
   "outputs": [
    {
     "data": {
      "text/plain": [
       "DataFrame[belongs_to_collection: string, budget: string, id: string, original_language: string, original_title: string, overview: string, popularity: string, production_companies: string, production_countries: string, release_date: string, revenue: string, runtime: string, status: string, tagline: string, title: string, vote_average: string, release_year: int]"
      ]
     },
     "execution_count": 51,
     "metadata": {},
     "output_type": "execute_result"
    }
   ],
   "source": [
    "# if we use any of the levels with _2, it represents that the \n",
    "# data is persisted and each is replicated into two cluster nodes. \n",
    "df.persist(pyspark.StorageLevel.MEMORY_AND_DISK_2)"
   ]
  },
  {
   "cell_type": "code",
   "execution_count": 52,
   "metadata": {},
   "outputs": [
    {
     "data": {
      "text/plain": [
       "StorageLevel(True, True, False, False, 2)"
      ]
     },
     "execution_count": 52,
     "metadata": {},
     "output_type": "execute_result"
    }
   ],
   "source": [
    "df.storageLevel"
   ]
  },
  {
   "cell_type": "code",
   "execution_count": 53,
   "metadata": {},
   "outputs": [
    {
     "data": {
      "text/plain": [
       "DataFrame[belongs_to_collection: string, budget: string, id: string, original_language: string, original_title: string, overview: string, popularity: string, production_companies: string, production_countries: string, release_date: string, revenue: string, runtime: string, status: string, tagline: string, title: string, vote_average: string, release_year: int]"
      ]
     },
     "execution_count": 53,
     "metadata": {},
     "output_type": "execute_result"
    }
   ],
   "source": [
    "df.unpersist()"
   ]
  },
  {
   "cell_type": "markdown",
   "metadata": {},
   "source": [
    "### Pandas Support"
   ]
  },
  {
   "cell_type": "code",
   "execution_count": 55,
   "metadata": {},
   "outputs": [
    {
     "data": {
      "text/html": [
       "<div>\n",
       "<style scoped>\n",
       "    .dataframe tbody tr th:only-of-type {\n",
       "        vertical-align: middle;\n",
       "    }\n",
       "\n",
       "    .dataframe tbody tr th {\n",
       "        vertical-align: top;\n",
       "    }\n",
       "\n",
       "    .dataframe thead th {\n",
       "        text-align: right;\n",
       "    }\n",
       "</style>\n",
       "<table border=\"1\" class=\"dataframe\">\n",
       "  <thead>\n",
       "    <tr style=\"text-align: right;\">\n",
       "      <th></th>\n",
       "      <th>belongs_to_collection</th>\n",
       "      <th>budget</th>\n",
       "      <th>id</th>\n",
       "      <th>original_language</th>\n",
       "      <th>original_title</th>\n",
       "      <th>overview</th>\n",
       "      <th>popularity</th>\n",
       "      <th>production_companies</th>\n",
       "      <th>production_countries</th>\n",
       "      <th>release_date</th>\n",
       "      <th>revenue</th>\n",
       "      <th>runtime</th>\n",
       "      <th>status</th>\n",
       "      <th>tagline</th>\n",
       "      <th>title</th>\n",
       "      <th>vote_average</th>\n",
       "      <th>release_year</th>\n",
       "    </tr>\n",
       "  </thead>\n",
       "  <tbody>\n",
       "    <tr>\n",
       "      <th>0</th>\n",
       "      <td>None</td>\n",
       "      <td>0</td>\n",
       "      <td>43000</td>\n",
       "      <td>fr</td>\n",
       "      <td>Le Caporal épinglé</td>\n",
       "      <td>The story serves as a companion piece to Renoi...</td>\n",
       "      <td>2.503</td>\n",
       "      <td>[{'id': 16059, 'logo_path': None, 'name': 'Les...</td>\n",
       "      <td>[{'iso_3166_1': 'FR', 'name': 'France'}]</td>\n",
       "      <td>1962-05-23</td>\n",
       "      <td>0</td>\n",
       "      <td>90</td>\n",
       "      <td>Released</td>\n",
       "      <td>None</td>\n",
       "      <td>The Elusive Corporal</td>\n",
       "      <td>5.9</td>\n",
       "      <td>1962.0</td>\n",
       "    </tr>\n",
       "    <tr>\n",
       "      <th>1</th>\n",
       "      <td>None</td>\n",
       "      <td>0</td>\n",
       "      <td>43001</td>\n",
       "      <td>fr</td>\n",
       "      <td>Cybèle ou les dimanches de ville d'Avray</td>\n",
       "      <td>The tragic story of a young orphan girl who is...</td>\n",
       "      <td>5.51</td>\n",
       "      <td>[{'id': 7808, 'logo_path': None, 'name': 'Fidè...</td>\n",
       "      <td>[{'iso_3166_1': 'AT', 'name': 'Austria'}, {'is...</td>\n",
       "      <td>1962-11-12</td>\n",
       "      <td>0</td>\n",
       "      <td>110</td>\n",
       "      <td>Released</td>\n",
       "      <td>None</td>\n",
       "      <td>Sundays and Cybele</td>\n",
       "      <td>7.4</td>\n",
       "      <td>1962.0</td>\n",
       "    </tr>\n",
       "    <tr>\n",
       "      <th>2</th>\n",
       "      <td>None</td>\n",
       "      <td>0</td>\n",
       "      <td>43002</td>\n",
       "      <td>en</td>\n",
       "      <td>Lonely Are the Brave</td>\n",
       "      <td>A fiercely independent cowboy arranges to have...</td>\n",
       "      <td>5.62</td>\n",
       "      <td>[{'id': 3810, 'logo_path': None, 'name': 'Joel...</td>\n",
       "      <td>[{'iso_3166_1': 'US', 'name': 'United States o...</td>\n",
       "      <td>1962-05-24</td>\n",
       "      <td>0</td>\n",
       "      <td>107</td>\n",
       "      <td>Released</td>\n",
       "      <td>Life can never cage a man like this!</td>\n",
       "      <td>Lonely Are the Brave</td>\n",
       "      <td>7.5</td>\n",
       "      <td>1962.0</td>\n",
       "    </tr>\n",
       "    <tr>\n",
       "      <th>3</th>\n",
       "      <td>None</td>\n",
       "      <td>0</td>\n",
       "      <td>43003</td>\n",
       "      <td>fr</td>\n",
       "      <td>Vérités et Mensonges</td>\n",
       "      <td>Documents the lives of infamous fakers Elmyr d...</td>\n",
       "      <td>7.159</td>\n",
       "      <td>[{'id': 36547, 'logo_path': None, 'name': 'SAC...</td>\n",
       "      <td>[{'iso_3166_1': 'DE', 'name': 'Germany'}, {'is...</td>\n",
       "      <td>1975-03-12</td>\n",
       "      <td>0</td>\n",
       "      <td>89</td>\n",
       "      <td>Released</td>\n",
       "      <td>None</td>\n",
       "      <td>F for Fake</td>\n",
       "      <td>7.5</td>\n",
       "      <td>1975.0</td>\n",
       "    </tr>\n",
       "    <tr>\n",
       "      <th>4</th>\n",
       "      <td>None</td>\n",
       "      <td>500000</td>\n",
       "      <td>43004</td>\n",
       "      <td>en</td>\n",
       "      <td>Long Day's Journey Into Night</td>\n",
       "      <td>The film follows one day in the lives of the T...</td>\n",
       "      <td>3.988</td>\n",
       "      <td>[{'id': 77598, 'logo_path': None, 'name': 'Fir...</td>\n",
       "      <td>[{'iso_3166_1': 'US', 'name': 'United States o...</td>\n",
       "      <td>1962-10-09</td>\n",
       "      <td>0</td>\n",
       "      <td>174</td>\n",
       "      <td>Released</td>\n",
       "      <td>PRIDE...POWER...PASSION...PAIN!</td>\n",
       "      <td>Long Day's Journey Into Night</td>\n",
       "      <td>6.8</td>\n",
       "      <td>1962.0</td>\n",
       "    </tr>\n",
       "  </tbody>\n",
       "</table>\n",
       "</div>"
      ],
      "text/plain": [
       "  belongs_to_collection  budget     id original_language  \\\n",
       "0                  None       0  43000                fr   \n",
       "1                  None       0  43001                fr   \n",
       "2                  None       0  43002                en   \n",
       "3                  None       0  43003                fr   \n",
       "4                  None  500000  43004                en   \n",
       "\n",
       "                             original_title  \\\n",
       "0                        Le Caporal épinglé   \n",
       "1  Cybèle ou les dimanches de ville d'Avray   \n",
       "2                      Lonely Are the Brave   \n",
       "3                      Vérités et Mensonges   \n",
       "4             Long Day's Journey Into Night   \n",
       "\n",
       "                                            overview popularity  \\\n",
       "0  The story serves as a companion piece to Renoi...      2.503   \n",
       "1  The tragic story of a young orphan girl who is...       5.51   \n",
       "2  A fiercely independent cowboy arranges to have...       5.62   \n",
       "3  Documents the lives of infamous fakers Elmyr d...      7.159   \n",
       "4  The film follows one day in the lives of the T...      3.988   \n",
       "\n",
       "                                production_companies  \\\n",
       "0  [{'id': 16059, 'logo_path': None, 'name': 'Les...   \n",
       "1  [{'id': 7808, 'logo_path': None, 'name': 'Fidè...   \n",
       "2  [{'id': 3810, 'logo_path': None, 'name': 'Joel...   \n",
       "3  [{'id': 36547, 'logo_path': None, 'name': 'SAC...   \n",
       "4  [{'id': 77598, 'logo_path': None, 'name': 'Fir...   \n",
       "\n",
       "                                production_countries release_date revenue  \\\n",
       "0           [{'iso_3166_1': 'FR', 'name': 'France'}]   1962-05-23       0   \n",
       "1  [{'iso_3166_1': 'AT', 'name': 'Austria'}, {'is...   1962-11-12       0   \n",
       "2  [{'iso_3166_1': 'US', 'name': 'United States o...   1962-05-24       0   \n",
       "3  [{'iso_3166_1': 'DE', 'name': 'Germany'}, {'is...   1975-03-12       0   \n",
       "4  [{'iso_3166_1': 'US', 'name': 'United States o...   1962-10-09       0   \n",
       "\n",
       "  runtime    status                               tagline  \\\n",
       "0      90  Released                                  None   \n",
       "1     110  Released                                  None   \n",
       "2     107  Released  Life can never cage a man like this!   \n",
       "3      89  Released                                  None   \n",
       "4     174  Released       PRIDE...POWER...PASSION...PAIN!   \n",
       "\n",
       "                           title vote_average  release_year  \n",
       "0           The Elusive Corporal          5.9        1962.0  \n",
       "1             Sundays and Cybele          7.4        1962.0  \n",
       "2           Lonely Are the Brave          7.5        1962.0  \n",
       "3                     F for Fake          7.5        1975.0  \n",
       "4  Long Day's Journey Into Night          6.8        1962.0  "
      ]
     },
     "execution_count": 55,
     "metadata": {},
     "output_type": "execute_result"
    }
   ],
   "source": [
    "# Pandas to PySpark\n",
    "df_pandas = df.toPandas()\n",
    "df_pandas.head(5)"
   ]
  },
  {
   "cell_type": "code",
   "execution_count": 57,
   "metadata": {},
   "outputs": [
    {
     "data": {
      "text/plain": [
       "DataFrame[belongs_to_collection: string, budget: string, id: string, original_language: string, original_title: string, overview: string, popularity: string, production_companies: string, production_countries: string, release_date: string, revenue: string, runtime: string, status: string, tagline: string, title: string, vote_average: string, release_year: double]"
      ]
     },
     "execution_count": 57,
     "metadata": {},
     "output_type": "execute_result"
    }
   ],
   "source": [
    "# Pandas to PySpark\n",
    "df_py = spark.createDataFrame(df_pandas)\n",
    "df_py"
   ]
  },
  {
   "cell_type": "markdown",
   "metadata": {},
   "source": [
    "### Joins"
   ]
  },
  {
   "cell_type": "code",
   "execution_count": 71,
   "metadata": {},
   "outputs": [],
   "source": [
    "# Reading another new dataset for joins: \n",
    "\n",
    "# Input parameters:\n",
    "file_location = \"movie_data_part2.csv\"\n",
    "file_type = \"csv\"\n",
    "infer_schema = \"False\"\n",
    "first_row_is_header = \"True\"\n",
    "delimiter = \"|\"\n",
    "\n",
    "# Bringing all the options together to read the csv file: \n",
    "df_p1 = spark.read.format(file_type) \\\n",
    ".option(\"inferSchema\", infer_schema) \\\n",
    ".option(\"header\", first_row_is_header) \\\n",
    ".option(\"sep\", delimiter) \\\n",
    ".load(file_location)"
   ]
  },
  {
   "cell_type": "code",
   "execution_count": 72,
   "metadata": {},
   "outputs": [
    {
     "name": "stdout",
     "output_type": "stream",
     "text": [
      "root\n",
      " |-- cast: string (nullable = true)\n",
      " |-- adult: string (nullable = true)\n",
      " |-- directors: string (nullable = true)\n",
      " |-- vote_count: string (nullable = true)\n",
      " |-- spoken_languages: string (nullable = true)\n",
      " |-- poster_path: string (nullable = true)\n",
      " |-- homepage: string (nullable = true)\n",
      " |-- imdb_id: string (nullable = true)\n",
      " |-- genres: string (nullable = true)\n",
      " |-- video: string (nullable = true)\n",
      " |-- id: string (nullable = true)\n",
      "\n"
     ]
    }
   ],
   "source": [
    "# Print Metadata\n",
    "df_p1.printSchema()"
   ]
  },
  {
   "cell_type": "code",
   "execution_count": 77,
   "metadata": {},
   "outputs": [
    {
     "name": "stdout",
     "output_type": "stream",
     "text": [
      "root\n",
      " |-- belongs_to_collection: string (nullable = true)\n",
      " |-- budget: string (nullable = true)\n",
      " |-- id: string (nullable = true)\n",
      " |-- original_language: string (nullable = true)\n",
      " |-- original_title: string (nullable = true)\n",
      " |-- overview: string (nullable = true)\n",
      " |-- popularity: string (nullable = true)\n",
      " |-- production_companies: string (nullable = true)\n",
      " |-- production_countries: string (nullable = true)\n",
      " |-- release_date: string (nullable = true)\n",
      " |-- revenue: string (nullable = true)\n",
      " |-- runtime: string (nullable = true)\n",
      " |-- status: string (nullable = true)\n",
      " |-- tagline: string (nullable = true)\n",
      " |-- title: string (nullable = true)\n",
      " |-- vote_average: string (nullable = true)\n",
      " |-- release_year: integer (nullable = true)\n",
      "\n"
     ]
    }
   ],
   "source": [
    "# Print Metadata\n",
    "df.printSchema()"
   ]
  },
  {
   "cell_type": "code",
   "execution_count": 78,
   "metadata": {},
   "outputs": [
    {
     "name": "stdout",
     "output_type": "stream",
     "text": [
      "root\n",
      " |-- belongs_to_collection: string (nullable = true)\n",
      " |-- budget: string (nullable = true)\n",
      " |-- id: integer (nullable = true)\n",
      " |-- original_language: string (nullable = true)\n",
      " |-- original_title: string (nullable = true)\n",
      " |-- overview: string (nullable = true)\n",
      " |-- popularity: string (nullable = true)\n",
      " |-- production_companies: string (nullable = true)\n",
      " |-- production_countries: string (nullable = true)\n",
      " |-- release_date: string (nullable = true)\n",
      " |-- revenue: string (nullable = true)\n",
      " |-- runtime: string (nullable = true)\n",
      " |-- status: string (nullable = true)\n",
      " |-- tagline: string (nullable = true)\n",
      " |-- title: string (nullable = true)\n",
      " |-- vote_average: string (nullable = true)\n",
      " |-- release_year: integer (nullable = true)\n",
      "\n"
     ]
    }
   ],
   "source": [
    "# Cast identifer into the right datatype:\n",
    "df = df.withColumn('id', df['id'].cast(\"integer\"))\n",
    "df.printSchema()"
   ]
  },
  {
   "cell_type": "code",
   "execution_count": 84,
   "metadata": {},
   "outputs": [
    {
     "name": "stdout",
     "output_type": "stream",
     "text": [
      "Counting the original dataframe: 43998\n"
     ]
    }
   ],
   "source": [
    "dfc = df.count()\n",
    "print(f'Counting the original dataframe: {dfc}')"
   ]
  },
  {
   "cell_type": "code",
   "execution_count": 73,
   "metadata": {},
   "outputs": [
    {
     "name": "stdout",
     "output_type": "stream",
     "text": [
      "+--------------------+-----+--------------------+----------+--------------------+--------------------+--------+---------+--------------------+-----+-----+\n",
      "|                cast|adult|           directors|vote_count|    spoken_languages|         poster_path|homepage|  imdb_id|              genres|video|   id|\n",
      "+--------------------+-----+--------------------+----------+--------------------+--------------------+--------+---------+--------------------+-----+-----+\n",
      "|[{'cast_id': 3, '...|False|[{'credit_id': '5...|        10|[{'iso_639_1': 'f...|/un7u35GYAmpnfvdS...|    null|tt0055827|[{'id': 35, 'name...|False|43000|\n",
      "|\"[{'cast_id': 4, ...|False|[{'credit_id': '5...|        26|[{'iso_639_1': 'f...|/sTx0bYeq1OtKOGZS...|    null|tt0055910|[{'id': 18, 'name...|False|43001|\n",
      "|\"[{'cast_id': 1, ...|False|[{'credit_id': '5...|        65|[{'iso_639_1': 'e...|/h5gaDp7FurCVfUCI...|    null|tt0056195|[{'id': 18, 'name...|False|43002|\n",
      "|[{'cast_id': 3, '...|False|[{'credit_id': '5...|       173|[{'iso_639_1': 'e...|/qe6uEkCFGzY4j3nB...|    null|tt0072962|[{'id': 99, 'name...|False|43003|\n",
      "|[{'cast_id': 1, '...|False|[{'credit_id': '5...|        27|[{'iso_639_1': 'e...|/v0LN26HmrCEgZiDG...|    null|tt0056196|[{'id': 18, 'name...|False|43004|\n",
      "+--------------------+-----+--------------------+----------+--------------------+--------------------+--------+---------+--------------------+-----+-----+\n",
      "only showing top 5 rows\n",
      "\n"
     ]
    }
   ],
   "source": [
    "df_p1.show(5)"
   ]
  },
  {
   "cell_type": "code",
   "execution_count": 74,
   "metadata": {},
   "outputs": [
    {
     "name": "stdout",
     "output_type": "stream",
     "text": [
      "root\n",
      " |-- cast: string (nullable = true)\n",
      " |-- adult: string (nullable = true)\n",
      " |-- directors: string (nullable = true)\n",
      " |-- vote_count: string (nullable = true)\n",
      " |-- spoken_languages: string (nullable = true)\n",
      " |-- poster_path: string (nullable = true)\n",
      " |-- homepage: string (nullable = true)\n",
      " |-- imdb_id: string (nullable = true)\n",
      " |-- genres: string (nullable = true)\n",
      " |-- video: string (nullable = true)\n",
      " |-- id: integer (nullable = true)\n",
      "\n"
     ]
    }
   ],
   "source": [
    "# Preparing data for joins\n",
    "# Cast identifer into the right datatype:\n",
    "df_p1 = df_p1.withColumn('id', df_p1['id'].cast(\"integer\"))\n",
    "df_p1.printSchema()"
   ]
  },
  {
   "cell_type": "code",
   "execution_count": 79,
   "metadata": {},
   "outputs": [
    {
     "name": "stdout",
     "output_type": "stream",
     "text": [
      "Before cleaning: 24998\n",
      "After cleaning: 24998\n"
     ]
    }
   ],
   "source": [
    "# Filter missing values:\n",
    "bc = df_p1.count()\n",
    "print(f'Before cleaning: {bc}')\n",
    "\n",
    "df_p1 = df_p1.filter((df_p1['id'].isNotNull()) & (~isnan(df_p1['id'])))\n",
    "ac= df_p1.count()\n",
    "print(f'After cleaning: {ac}')"
   ]
  },
  {
   "cell_type": "markdown",
   "metadata": {},
   "source": [
    "##### inner join\n",
    "\n",
    "* This joins both DataFrames on the identifier and retains only the common rows and columns "
   ]
  },
  {
   "cell_type": "code",
   "execution_count": 80,
   "metadata": {},
   "outputs": [
    {
     "name": "stdout",
     "output_type": "stream",
     "text": [
      "root\n",
      " |-- belongs_to_collection: string (nullable = true)\n",
      " |-- budget: string (nullable = true)\n",
      " |-- id: integer (nullable = true)\n",
      " |-- original_language: string (nullable = true)\n",
      " |-- original_title: string (nullable = true)\n",
      " |-- overview: string (nullable = true)\n",
      " |-- popularity: string (nullable = true)\n",
      " |-- production_companies: string (nullable = true)\n",
      " |-- production_countries: string (nullable = true)\n",
      " |-- release_date: string (nullable = true)\n",
      " |-- revenue: string (nullable = true)\n",
      " |-- runtime: string (nullable = true)\n",
      " |-- status: string (nullable = true)\n",
      " |-- tagline: string (nullable = true)\n",
      " |-- title: string (nullable = true)\n",
      " |-- vote_average: string (nullable = true)\n",
      " |-- release_year: integer (nullable = true)\n",
      " |-- cast: string (nullable = true)\n",
      " |-- adult: string (nullable = true)\n",
      " |-- directors: string (nullable = true)\n",
      " |-- vote_count: string (nullable = true)\n",
      " |-- spoken_languages: string (nullable = true)\n",
      " |-- poster_path: string (nullable = true)\n",
      " |-- homepage: string (nullable = true)\n",
      " |-- imdb_id: string (nullable = true)\n",
      " |-- genres: string (nullable = true)\n",
      " |-- video: string (nullable = true)\n",
      " |-- id: integer (nullable = true)\n",
      "\n"
     ]
    }
   ],
   "source": [
    "df.join(df_p1, df['id'] == df_p1['id'], 'inner').printSchema()"
   ]
  },
  {
   "cell_type": "code",
   "execution_count": 81,
   "metadata": {},
   "outputs": [
    {
     "data": {
      "text/plain": [
       "24998"
      ]
     },
     "execution_count": 81,
     "metadata": {},
     "output_type": "execute_result"
    }
   ],
   "source": [
    "df.join(df_p1, df['id'] == df_p1['id'], 'inner').count()"
   ]
  },
  {
   "cell_type": "markdown",
   "metadata": {},
   "source": [
    "##### Left/Left outer join"
   ]
  },
  {
   "cell_type": "code",
   "execution_count": 82,
   "metadata": {},
   "outputs": [
    {
     "name": "stdout",
     "output_type": "stream",
     "text": [
      "root\n",
      " |-- belongs_to_collection: string (nullable = true)\n",
      " |-- budget: string (nullable = true)\n",
      " |-- id: integer (nullable = true)\n",
      " |-- original_language: string (nullable = true)\n",
      " |-- original_title: string (nullable = true)\n",
      " |-- overview: string (nullable = true)\n",
      " |-- popularity: string (nullable = true)\n",
      " |-- production_companies: string (nullable = true)\n",
      " |-- production_countries: string (nullable = true)\n",
      " |-- release_date: string (nullable = true)\n",
      " |-- revenue: string (nullable = true)\n",
      " |-- runtime: string (nullable = true)\n",
      " |-- status: string (nullable = true)\n",
      " |-- tagline: string (nullable = true)\n",
      " |-- title: string (nullable = true)\n",
      " |-- vote_average: string (nullable = true)\n",
      " |-- release_year: integer (nullable = true)\n",
      " |-- cast: string (nullable = true)\n",
      " |-- adult: string (nullable = true)\n",
      " |-- directors: string (nullable = true)\n",
      " |-- vote_count: string (nullable = true)\n",
      " |-- spoken_languages: string (nullable = true)\n",
      " |-- poster_path: string (nullable = true)\n",
      " |-- homepage: string (nullable = true)\n",
      " |-- imdb_id: string (nullable = true)\n",
      " |-- genres: string (nullable = true)\n",
      " |-- video: string (nullable = true)\n",
      " |-- id: integer (nullable = true)\n",
      "\n"
     ]
    }
   ],
   "source": [
    "df.join(df_p1, df['id'] == df_p1['id'],'left').printSchema()"
   ]
  },
  {
   "cell_type": "code",
   "execution_count": 83,
   "metadata": {},
   "outputs": [
    {
     "data": {
      "text/plain": [
       "43998"
      ]
     },
     "execution_count": 83,
     "metadata": {},
     "output_type": "execute_result"
    }
   ],
   "source": [
    "df.join(df_p1, df['id'] == df_p1['id'],'left').count()"
   ]
  },
  {
   "cell_type": "markdown",
   "metadata": {},
   "source": [
    "##### Right/Right outer join"
   ]
  },
  {
   "cell_type": "code",
   "execution_count": 85,
   "metadata": {},
   "outputs": [
    {
     "name": "stdout",
     "output_type": "stream",
     "text": [
      "root\n",
      " |-- belongs_to_collection: string (nullable = true)\n",
      " |-- budget: string (nullable = true)\n",
      " |-- id: integer (nullable = true)\n",
      " |-- original_language: string (nullable = true)\n",
      " |-- original_title: string (nullable = true)\n",
      " |-- overview: string (nullable = true)\n",
      " |-- popularity: string (nullable = true)\n",
      " |-- production_companies: string (nullable = true)\n",
      " |-- production_countries: string (nullable = true)\n",
      " |-- release_date: string (nullable = true)\n",
      " |-- revenue: string (nullable = true)\n",
      " |-- runtime: string (nullable = true)\n",
      " |-- status: string (nullable = true)\n",
      " |-- tagline: string (nullable = true)\n",
      " |-- title: string (nullable = true)\n",
      " |-- vote_average: string (nullable = true)\n",
      " |-- release_year: integer (nullable = true)\n",
      " |-- cast: string (nullable = true)\n",
      " |-- adult: string (nullable = true)\n",
      " |-- directors: string (nullable = true)\n",
      " |-- vote_count: string (nullable = true)\n",
      " |-- spoken_languages: string (nullable = true)\n",
      " |-- poster_path: string (nullable = true)\n",
      " |-- homepage: string (nullable = true)\n",
      " |-- imdb_id: string (nullable = true)\n",
      " |-- genres: string (nullable = true)\n",
      " |-- video: string (nullable = true)\n",
      " |-- id: integer (nullable = true)\n",
      "\n"
     ]
    }
   ],
   "source": [
    "df.join(df_p1, df['id'] == df_p1['id'],'right').printSchema()"
   ]
  },
  {
   "cell_type": "code",
   "execution_count": 86,
   "metadata": {},
   "outputs": [
    {
     "data": {
      "text/plain": [
       "24998"
      ]
     },
     "execution_count": 86,
     "metadata": {},
     "output_type": "execute_result"
    }
   ],
   "source": [
    "df.join(df_p1, df['id'] == df_p1['id'],'right').count()"
   ]
  },
  {
   "cell_type": "markdown",
   "metadata": {},
   "source": [
    "##### Full outer join"
   ]
  },
  {
   "cell_type": "code",
   "execution_count": 87,
   "metadata": {},
   "outputs": [
    {
     "name": "stdout",
     "output_type": "stream",
     "text": [
      "root\n",
      " |-- belongs_to_collection: string (nullable = true)\n",
      " |-- budget: string (nullable = true)\n",
      " |-- id: integer (nullable = true)\n",
      " |-- original_language: string (nullable = true)\n",
      " |-- original_title: string (nullable = true)\n",
      " |-- overview: string (nullable = true)\n",
      " |-- popularity: string (nullable = true)\n",
      " |-- production_companies: string (nullable = true)\n",
      " |-- production_countries: string (nullable = true)\n",
      " |-- release_date: string (nullable = true)\n",
      " |-- revenue: string (nullable = true)\n",
      " |-- runtime: string (nullable = true)\n",
      " |-- status: string (nullable = true)\n",
      " |-- tagline: string (nullable = true)\n",
      " |-- title: string (nullable = true)\n",
      " |-- vote_average: string (nullable = true)\n",
      " |-- release_year: integer (nullable = true)\n",
      " |-- cast: string (nullable = true)\n",
      " |-- adult: string (nullable = true)\n",
      " |-- directors: string (nullable = true)\n",
      " |-- vote_count: string (nullable = true)\n",
      " |-- spoken_languages: string (nullable = true)\n",
      " |-- poster_path: string (nullable = true)\n",
      " |-- homepage: string (nullable = true)\n",
      " |-- imdb_id: string (nullable = true)\n",
      " |-- genres: string (nullable = true)\n",
      " |-- video: string (nullable = true)\n",
      " |-- id: integer (nullable = true)\n",
      "\n"
     ]
    }
   ],
   "source": [
    "df.join(df_p1, df['id'] == df_p1['id'],'outer').printSchema()"
   ]
  },
  {
   "cell_type": "code",
   "execution_count": 88,
   "metadata": {},
   "outputs": [
    {
     "data": {
      "text/plain": [
       "43998"
      ]
     },
     "execution_count": 88,
     "metadata": {},
     "output_type": "execute_result"
    }
   ],
   "source": [
    "df.join(df_p1, df['id'] == df_p1['id'],'outer').count()"
   ]
  },
  {
   "cell_type": "markdown",
   "metadata": {},
   "source": [
    "##### Left Anti join"
   ]
  },
  {
   "cell_type": "code",
   "execution_count": 89,
   "metadata": {},
   "outputs": [
    {
     "name": "stdout",
     "output_type": "stream",
     "text": [
      "root\n",
      " |-- belongs_to_collection: string (nullable = true)\n",
      " |-- budget: string (nullable = true)\n",
      " |-- id: integer (nullable = true)\n",
      " |-- original_language: string (nullable = true)\n",
      " |-- original_title: string (nullable = true)\n",
      " |-- overview: string (nullable = true)\n",
      " |-- popularity: string (nullable = true)\n",
      " |-- production_companies: string (nullable = true)\n",
      " |-- production_countries: string (nullable = true)\n",
      " |-- release_date: string (nullable = true)\n",
      " |-- revenue: string (nullable = true)\n",
      " |-- runtime: string (nullable = true)\n",
      " |-- status: string (nullable = true)\n",
      " |-- tagline: string (nullable = true)\n",
      " |-- title: string (nullable = true)\n",
      " |-- vote_average: string (nullable = true)\n",
      " |-- release_year: integer (nullable = true)\n",
      "\n"
     ]
    }
   ],
   "source": [
    "df.join(df_p1, df['id'] == df_p1['id'],'left_anti').printSchema()"
   ]
  },
  {
   "cell_type": "code",
   "execution_count": 90,
   "metadata": {},
   "outputs": [
    {
     "data": {
      "text/plain": [
       "19000"
      ]
     },
     "execution_count": 90,
     "metadata": {},
     "output_type": "execute_result"
    }
   ],
   "source": [
    "df.join(df_p1, df['id'] == df_p1['id'],'left_anti').count()"
   ]
  },
  {
   "cell_type": "markdown",
   "metadata": {},
   "source": [
    "##### Left Semi Join\n",
    "* This is similar to an inner join, except it would not yield the columns from the right-hand DataFrame"
   ]
  },
  {
   "cell_type": "code",
   "execution_count": 91,
   "metadata": {},
   "outputs": [
    {
     "name": "stdout",
     "output_type": "stream",
     "text": [
      "root\n",
      " |-- belongs_to_collection: string (nullable = true)\n",
      " |-- budget: string (nullable = true)\n",
      " |-- id: integer (nullable = true)\n",
      " |-- original_language: string (nullable = true)\n",
      " |-- original_title: string (nullable = true)\n",
      " |-- overview: string (nullable = true)\n",
      " |-- popularity: string (nullable = true)\n",
      " |-- production_companies: string (nullable = true)\n",
      " |-- production_countries: string (nullable = true)\n",
      " |-- release_date: string (nullable = true)\n",
      " |-- revenue: string (nullable = true)\n",
      " |-- runtime: string (nullable = true)\n",
      " |-- status: string (nullable = true)\n",
      " |-- tagline: string (nullable = true)\n",
      " |-- title: string (nullable = true)\n",
      " |-- vote_average: string (nullable = true)\n",
      " |-- release_year: integer (nullable = true)\n",
      "\n"
     ]
    }
   ],
   "source": [
    "df.join(df_p1, df['id'] == df_p1['id'],'left_semi').printSchema()"
   ]
  },
  {
   "cell_type": "code",
   "execution_count": 92,
   "metadata": {},
   "outputs": [
    {
     "data": {
      "text/plain": [
       "24998"
      ]
     },
     "execution_count": 92,
     "metadata": {},
     "output_type": "execute_result"
    }
   ],
   "source": [
    "df.join(df_p1, df['id'] == df_p1['id'],'left_semi').count()"
   ]
  },
  {
   "cell_type": "markdown",
   "metadata": {},
   "source": [
    "##### Broadcasting\n",
    "* There will be situations when you have to join one large dataset (millions of rows) and one small dataset (hundreds of rows). To join them efficiently, Spark has another function called **broadcast**. The smaller DataFrame will be replicated in all the nodes of the cluster. This improves efficiency, as Spark doesn't need to do any shuffling in the larger dataset."
   ]
  },
  {
   "cell_type": "code",
   "execution_count": 94,
   "metadata": {},
   "outputs": [
    {
     "data": {
      "text/plain": [
       "43998"
      ]
     },
     "execution_count": 94,
     "metadata": {},
     "output_type": "execute_result"
    }
   ],
   "source": [
    "df.join(broadcast(df_p1), df['id'] == df_p1['id'],'outer').count()"
   ]
  },
  {
   "cell_type": "markdown",
   "metadata": {},
   "source": [
    "### Dropping Duplicates"
   ]
  },
  {
   "cell_type": "code",
   "execution_count": 69,
   "metadata": {},
   "outputs": [
    {
     "data": {
      "text/plain": [
       "43998"
      ]
     },
     "execution_count": 69,
     "metadata": {},
     "output_type": "execute_result"
    }
   ],
   "source": [
    "# original data count:\n",
    "df.count()"
   ]
  },
  {
   "cell_type": "code",
   "execution_count": 66,
   "metadata": {},
   "outputs": [
    {
     "data": {
      "text/plain": [
       "43643"
      ]
     },
     "execution_count": 66,
     "metadata": {},
     "output_type": "execute_result"
    }
   ],
   "source": [
    "# dropping the duplicates\n",
    "# In the below example, we drop the rows for which movie title and release years are the same\n",
    "df.dropDuplicates(['title','release_year']).count()"
   ]
  },
  {
   "cell_type": "markdown",
   "metadata": {},
   "source": [
    "### Data Visualizations"
   ]
  },
  {
   "cell_type": "markdown",
   "metadata": {},
   "source": [
    "##### Number of Movies Released between 1960 and 1970 (by Year):"
   ]
  },
  {
   "cell_type": "code",
   "execution_count": 95,
   "metadata": {},
   "outputs": [],
   "source": [
    "# Step 1: Import the required libraries\n",
    "%matplotlib inline\n",
    "import pandas as pd\n",
    "from matplotlib import pyplot as plt\n",
    "import seaborn as sns"
   ]
  },
  {
   "cell_type": "code",
   "execution_count": 106,
   "metadata": {},
   "outputs": [
    {
     "name": "stdout",
     "output_type": "stream",
     "text": [
      "+-----+-------+------------------+------------+-------+--------------------+\n",
      "|   id| budget|        popularity|release_date|revenue|               title|\n",
      "+-----+-------+------------------+------------+-------+--------------------+\n",
      "|43000|      0|             2.503|  1962-05-23|      0|The Elusive Corporal|\n",
      "|43001|      0|              5.51|  1962-11-12|      0|  Sundays and Cybele|\n",
      "|43002|      0|              5.62|  1962-05-24|      0|Lonely Are the Brave|\n",
      "|43003|      0|             7.159|  1975-03-12|      0|          F for Fake|\n",
      "|43004| 500000|             3.988|  1962-10-09|      0|Long Day's Journe...|\n",
      "|43006|      0|             3.194|  1962-03-09|      0|           My Geisha|\n",
      "|43007|      0|             2.689|  1962-10-31|      0|Period of Adjustment|\n",
      "|43008|      0|             6.537|  1959-03-13|      0|    The Hanging Tree|\n",
      "|43010|      0|             4.297|  1962-01-01|      0|Sherlock Holmes a...|\n",
      "|43011|      0|             4.417|  1962-01-01|      0|  Sodom and Gomorrah|\n",
      "|43012|7000000|4.7219999999999995|  1962-11-21|4000000|         Taras Bulba|\n",
      "|43013|      0|             2.543|  1962-04-17|      0|The Counterfeit T...|\n",
      "|43014|      0|             4.303|  1962-10-24|      0|     Tower of London|\n",
      "|43015|      0|             3.493|  1962-12-07|      0|Varan the Unbelie...|\n",
      "|43016|      0|             2.851|  1962-01-01|      0|Waltz of the Tore...|\n",
      "|43017|      0|             4.047|  1961-10-11|      0|         Back Street|\n",
      "|43018|      0|             2.661|  1961-06-02|      0|Gidget Goes Hawaiian|\n",
      "|43019|      0|             3.225|  2010-05-28|      0|Schuks Tshabalala...|\n",
      "|43020|      0|              5.72|  1961-06-15|      0|The Colossus of R...|\n",
      "|43021|      0|             3.292|  2008-08-22|      0|          Sex Galaxy|\n",
      "+-----+-------+------------------+------------+-------+--------------------+\n",
      "only showing top 20 rows\n",
      "\n"
     ]
    }
   ],
   "source": [
    "df=df.select(df[2],df[1],df[6],df[9],df[10],df[14])\n",
    "df.show()"
   ]
  },
  {
   "cell_type": "code",
   "execution_count": 109,
   "metadata": {},
   "outputs": [
    {
     "name": "stdout",
     "output_type": "stream",
     "text": [
      "+-----+-------+------------------+------------+-------+--------------------+------------+\n",
      "|   id| budget|        popularity|release_date|revenue|               title|release_year|\n",
      "+-----+-------+------------------+------------+-------+--------------------+------------+\n",
      "|43000|      0|             2.503|  1962-05-23|      0|The Elusive Corporal|        1962|\n",
      "|43001|      0|              5.51|  1962-11-12|      0|  Sundays and Cybele|        1962|\n",
      "|43002|      0|              5.62|  1962-05-24|      0|Lonely Are the Brave|        1962|\n",
      "|43003|      0|             7.159|  1975-03-12|      0|          F for Fake|        1975|\n",
      "|43004| 500000|             3.988|  1962-10-09|      0|Long Day's Journe...|        1962|\n",
      "|43006|      0|             3.194|  1962-03-09|      0|           My Geisha|        1962|\n",
      "|43007|      0|             2.689|  1962-10-31|      0|Period of Adjustment|        1962|\n",
      "|43008|      0|             6.537|  1959-03-13|      0|    The Hanging Tree|        1959|\n",
      "|43010|      0|             4.297|  1962-01-01|      0|Sherlock Holmes a...|        1962|\n",
      "|43011|      0|             4.417|  1962-01-01|      0|  Sodom and Gomorrah|        1962|\n",
      "|43012|7000000|4.7219999999999995|  1962-11-21|4000000|         Taras Bulba|        1962|\n",
      "|43013|      0|             2.543|  1962-04-17|      0|The Counterfeit T...|        1962|\n",
      "|43014|      0|             4.303|  1962-10-24|      0|     Tower of London|        1962|\n",
      "|43015|      0|             3.493|  1962-12-07|      0|Varan the Unbelie...|        1962|\n",
      "|43016|      0|             2.851|  1962-01-01|      0|Waltz of the Tore...|        1962|\n",
      "|43017|      0|             4.047|  1961-10-11|      0|         Back Street|        1961|\n",
      "|43018|      0|             2.661|  1961-06-02|      0|Gidget Goes Hawaiian|        1961|\n",
      "|43019|      0|             3.225|  2010-05-28|      0|Schuks Tshabalala...|        2010|\n",
      "|43020|      0|              5.72|  1961-06-15|      0|The Colossus of R...|        1961|\n",
      "|43021|      0|             3.292|  2008-08-22|      0|          Sex Galaxy|        2008|\n",
      "+-----+-------+------------------+------------+-------+--------------------+------------+\n",
      "only showing top 20 rows\n",
      "\n"
     ]
    }
   ],
   "source": [
    "df_temp=df.withColumn('release_year',year('release_date'))\n",
    "df_temp.show()"
   ]
  },
  {
   "cell_type": "code",
   "execution_count": 110,
   "metadata": {},
   "outputs": [],
   "source": [
    "# Step 2: Preparing the data using spark funcstions and converting to pandas DataFrame:\n",
    "df_cat=df_temp.filter(\"(release_year > 1959) and (release_year < 1971)\").groupby('release_year').count().toPandas()\n",
    "\n",
    "# Step 3: Sorting the values for display:\n",
    "df_cat=df_cat.sort_values(by=['release_year'], ascending=False)"
   ]
  },
  {
   "cell_type": "code",
   "execution_count": 111,
   "metadata": {},
   "outputs": [
    {
     "data": {
      "image/png": "[encoded data removed]",
      "text/plain": [
       "<Figure size 842.4x595.44 with 1 Axes>"
      ]
     },
     "metadata": {},
     "output_type": "display_data"
    }
   ],
   "source": [
    "# Step 4: Plotting the data\n",
    "sns.set(rc={'figure.figsize':(11.7,8.27)})\n",
    "sns.barplot(df_cat['release_year'],df_cat['count'])\n",
    "plt.xticks(rotation=25)\n",
    "plt.title('Number of films released each year from 1960 to 1970 in our dataset')\n",
    "plt.show()\n",
    "# plt.savefig('myimage2.svg', format='svg', dpi=1200)"
   ]
  },
  {
   "cell_type": "markdown",
   "metadata": {},
   "source": [
    "# Great Job!!"
   ]
  },
  {
   "cell_type": "code",
   "execution_count": null,
   "metadata": {},
   "outputs": [],
   "source": []
  }
 ],
 "metadata": {
  "kernelspec": {
   "display_name": "Python 3 (ipykernel)",
   "language": "python",
   "name": "python3"
  },
  "language_info": {
   "codemirror_mode": {
    "name": "ipython",
    "version": 3
   },
   "file_extension": ".py",
   "mimetype": "text/x-python",
   "name": "python",
   "nbconvert_exporter": "python",
   "pygments_lexer": "ipython3",
   "version": "3.9.7"
  }
 },
 "nbformat": 4,
 "nbformat_minor": 4
}
